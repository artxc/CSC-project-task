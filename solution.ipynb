{
 "cells": [
  {
   "cell_type": "code",
   "execution_count": 1,
   "metadata": {},
   "outputs": [],
   "source": [
    "import pandas\n",
    "import psycopg2\n",
    "\n",
    "from contextlib import closing"
   ]
  },
  {
   "cell_type": "code",
   "execution_count": 2,
   "metadata": {},
   "outputs": [],
   "source": [
    "config = dict(dbname='art', user='art')"
   ]
  },
  {
   "cell_type": "markdown",
   "metadata": {},
   "source": [
    "### Будем считать, что пользовательская сессия заканчивается, например, после `N` минут отсутствия активности"
   ]
  },
  {
   "cell_type": "markdown",
   "metadata": {},
   "source": [
    "Вспомогательные функции"
   ]
  },
  {
   "cell_type": "code",
   "execution_count": 3,
   "metadata": {},
   "outputs": [],
   "source": [
    "def execute(sql):\n",
    "    with closing(psycopg2.connect(**config)) as conn:\n",
    "        with conn.cursor() as cursor:\n",
    "            cursor.execute(sql)\n",
    "            conn.commit()"
   ]
  },
  {
   "cell_type": "code",
   "execution_count": 4,
   "metadata": {},
   "outputs": [],
   "source": [
    "def select(sql, args=None):\n",
    "    with closing(psycopg2.connect(**config)) as conn:\n",
    "        with conn.cursor() as cursor:\n",
    "            cursor.execute(sql, args)\n",
    "            print(pandas.DataFrame(cursor.fetchall(), columns=[column[0] for column in cursor.description]))"
   ]
  },
  {
   "cell_type": "markdown",
   "metadata": {},
   "source": [
    "### Создадим таблицу `action_type` и наполним данными"
   ]
  },
  {
   "cell_type": "code",
   "execution_count": 5,
   "metadata": {},
   "outputs": [],
   "source": [
    "create_table_action_type = \"\"\"CREATE TABLE action_type (\n",
    "                                id   SERIAL PRIMARY KEY, \n",
    "                                name TEXT NOT NULL UNIQUE\n",
    "                                );\"\"\"\n",
    "\n",
    "insert_action_names = \"\"\"INSERT INTO action_type(name) \n",
    "                         VALUES ('Copy'), ('Paste'), ('Backspace'), ('Run');\"\"\"\n",
    "\n",
    "get_action_names = \"\"\"SELECT *\n",
    "                      FROM action_type\"\"\""
   ]
  },
  {
   "cell_type": "code",
   "execution_count": 6,
   "metadata": {},
   "outputs": [
    {
     "name": "stdout",
     "output_type": "stream",
     "text": [
      "   id       name\n",
      "0   1       Copy\n",
      "1   2      Paste\n",
      "2   3  Backspace\n",
      "3   4        Run\n"
     ]
    }
   ],
   "source": [
    "execute(create_table_action_type)\n",
    "execute(insert_action_names)\n",
    "select(get_action_names)"
   ]
  },
  {
   "cell_type": "markdown",
   "metadata": {},
   "source": [
    "### Создадим таблицу `user_action` и наполним данными"
   ]
  },
  {
   "cell_type": "code",
   "execution_count": 7,
   "metadata": {},
   "outputs": [],
   "source": [
    "create_table_user_action = \"\"\"CREATE TABLE user_action(\n",
    "                                id         SERIAL PRIMARY KEY, \n",
    "                                action_id  INT NOT NULL REFERENCES action_type, \n",
    "                                time_stamp TIMESTAMP NOT NULL, \n",
    "                                user_id    INT NOT NULL\n",
    "                                );\"\"\"\n",
    "\n",
    "insert_actions = \"\"\"INSERT INTO user_action(action_id, time_stamp, user_id) \n",
    "                    VALUES (1, '2020.02.29 14:45:49', 1),\n",
    "                           (2, '2020.02.29 14:56:53', 1),\n",
    "                           (3, '2020.03.01 12:20:15', 2),\n",
    "                           (3, '2020.03.01 12:49:15', 2),\n",
    "                           (1, '2020.03.01 12:52:15', 2),\n",
    "                           (4, '2020.03.01 13:40:55', 2);\"\"\"\n",
    "\n",
    "get_actions = \"\"\"SELECT *\n",
    "                 FROM user_action\"\"\""
   ]
  },
  {
   "cell_type": "code",
   "execution_count": 8,
   "metadata": {},
   "outputs": [
    {
     "name": "stdout",
     "output_type": "stream",
     "text": [
      "   id  action_id          time_stamp  user_id\n",
      "0   1          1 2020-02-29 14:45:49        1\n",
      "1   2          2 2020-02-29 14:56:53        1\n",
      "2   3          3 2020-03-01 12:20:15        2\n",
      "3   4          3 2020-03-01 12:49:15        2\n",
      "4   5          1 2020-03-01 12:52:15        2\n",
      "5   6          4 2020-03-01 13:40:55        2\n"
     ]
    }
   ],
   "source": [
    "execute(create_table_user_action)\n",
    "execute(insert_actions)\n",
    "select(get_actions)"
   ]
  },
  {
   "cell_type": "markdown",
   "metadata": {},
   "source": [
    "### Тогда мы можем объединить активности пользователей в сессии с помощью следующего запроса"
   ]
  },
  {
   "cell_type": "code",
   "execution_count": 9,
   "metadata": {},
   "outputs": [],
   "source": [
    "def get_sessions(minutes):\n",
    "    sessions = \"\"\"SELECT id, action_id, time_stamp, user_id, SUM(is_new_session) OVER (ORDER BY user_id, time_stamp) AS session_id\n",
    "                  FROM (\n",
    "                        SELECT *, CASE \n",
    "                                    WHEN last_event IS NULL \n",
    "                                    OR EXTRACT('EPOCH' FROM time_stamp) - EXTRACT('EPOCH' FROM last_event) > %s\n",
    "                                    THEN 1 ELSE 0 \n",
    "                                  END AS is_new_session\n",
    "                        FROM (\n",
    "                              SELECT *, LAG(time_stamp, 1) OVER (PARTITION BY user_id ORDER BY time_stamp) AS last_event\n",
    "                              FROM user_action\n",
    "                             ) AS previous_event\n",
    "                       ) AS session_start;\"\"\"\n",
    "    select(sessions, (minutes * 60,))"
   ]
  },
  {
   "cell_type": "code",
   "execution_count": 10,
   "metadata": {},
   "outputs": [
    {
     "name": "stdout",
     "output_type": "stream",
     "text": [
      "   id  action_id          time_stamp  user_id  session_id\n",
      "0   1          1 2020-02-29 14:45:49        1           1\n",
      "1   2          2 2020-02-29 14:56:53        1           1\n",
      "2   3          3 2020-03-01 12:20:15        2           2\n",
      "3   4          3 2020-03-01 12:49:15        2           2\n",
      "4   5          1 2020-03-01 12:52:15        2           2\n",
      "5   6          4 2020-03-01 13:40:55        2           3\n"
     ]
    }
   ],
   "source": [
    "minutes = 30\n",
    "get_sessions(minutes)"
   ]
  }
 ],
 "metadata": {
  "kernelspec": {
   "display_name": "Python 3",
   "language": "python",
   "name": "python3"
  },
  "language_info": {
   "codemirror_mode": {
    "name": "ipython",
    "version": 3
   },
   "file_extension": ".py",
   "mimetype": "text/x-python",
   "name": "python",
   "nbconvert_exporter": "python",
   "pygments_lexer": "ipython3",
   "version": "3.7.5"
  }
 },
 "nbformat": 4,
 "nbformat_minor": 4
}
